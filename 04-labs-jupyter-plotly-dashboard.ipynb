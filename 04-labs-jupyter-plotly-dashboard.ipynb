{
 "cells": [
  {
   "cell_type": "markdown",
   "metadata": {},
   "source": [
    "<center>\n",
    "    <img src=\"https://cf-courses-data.s3.us.cloud-object-storage.appdomain.cloud/IBMDeveloperSkillsNetwork-DV0101EN-SkillsNetwork/labs/Module%204/logo.png\" width=\"300\" alt=\"cognitiveclass.ai logo\" />\n",
    "</center>\n"
   ]
  },
  {
   "cell_type": "markdown",
   "metadata": {},
   "source": [
    "# Build a Dashboard Application with Plotly Dash"
   ]
  },
  {
   "cell_type": "markdown",
   "metadata": {},
   "source": [
    "In this lab, you will be building a Plotly Dash application for users to perform interactive visual analytics on SpaceX launch data in real-time.\n",
    "\n",
    "This dashboard application contains input components such as a dropdown list and a range slider to interact with a pie chart and a scatter point chart. You will be guided to build this dashboard application via the following tasks:\n",
    "\n",
    "* TASK 1: Add a Launch Site Drop-down Input Component\n",
    "* TASK 2: Add a callback function to render success-pie-chart based on selected site dropdown\n",
    "* TASK 3: Add a Range Slider to Select Payload\n",
    "* TASK 4: Add a callback function to render the success-payload-scatter-chart scatter plot\n",
    "\n",
    "After visual analysis using the dashboard, you should be able to obtain some insights to answer the following five questions:\n",
    "\n",
    "1. Which site has the largest successful launches?\n",
    "2. Which site has the highest launch success rate?\n",
    "3. Which payload range(s) has the highest launch success rate?\n",
    "4. Which payload range(s) has the lowest launch success rate?\n",
    "5. Which F9 Booster version (v1.0, v1.1, FT, B4, B5, etc.) has the highest launch success rate?\n",
    "\n",
    "**Estimated time needed**: 90 minutes"
   ]
  },
  {
   "cell_type": "markdown",
   "metadata": {},
   "source": [
    "## Application\n"
   ]
  },
  {
   "cell_type": "code",
   "execution_count": null,
   "metadata": {},
   "outputs": [
    {
     "name": "stdout",
     "output_type": "stream",
     "text": [
      "Dash is running on http://127.0.0.1:8050/\n",
      "\n",
      "Dash is running on http://127.0.0.1:8050/\n",
      "\n",
      " * Serving Flask app \"__main__\" (lazy loading)\n",
      " * Environment: production\n",
      "\u001b[31m   WARNING: This is a development server. Do not use it in a production deployment.\u001b[0m\n",
      "\u001b[2m   Use a production WSGI server instead.\u001b[0m\n",
      " * Debug mode: off\n"
     ]
    }
   ],
   "source": [
    "# Import required libraries\n",
    "import pandas as pd\n",
    "import dash\n",
    "from dash import html\n",
    "from dash import dcc\n",
    "from dash.dependencies import Input, Output\n",
    "import plotly.express as px\n",
    "\n",
    "# Read the airline data into pandas dataframe\n",
    "spacex_df = pd.read_csv(\"https://cf-courses-data.s3.us.cloud-object-storage.appdomain.cloud/IBM-DS0321EN-SkillsNetwork/datasets/spacex_launch_dash.csv\")\n",
    "max_payload = spacex_df['Payload Mass (kg)'].max()\n",
    "min_payload = spacex_df['Payload Mass (kg)'].min()\n",
    "\n",
    "#print(spacex_df['Launch Site'].unique())\n",
    "\n",
    "# Create a dash application\n",
    "app = dash.Dash(__name__)\n",
    "\n",
    "# Create an app layout\n",
    "sites=spacex_df['Launch Site'].unique().tolist()\n",
    "sites.insert(0,'All Sites')\n",
    "\n",
    "\n",
    "app.layout = html.Div(children=[html.H1('SpaceX Launch Records Dashboard',\n",
    "                                        style={'textAlign': 'center', 'color': '#503D36',\n",
    "                                               'font-size': 40}),\n",
    "                                # TASK 1: Add a dropdown list to enable Launch Site selection\n",
    "                                # The default select value is for ALL sites\n",
    "                                dcc.Dropdown(\n",
    "                                   id='site-dropdown',\n",
    "                                   options=[\n",
    "                                    {'label': i, 'value': i} for i in sites],\n",
    "                                    placeholder=\"Select a Launch Site here\",\n",
    "                                    value='All Sites',\n",
    "                                    searchable=True),\n",
    "                            \n",
    "                                html.Br(),\n",
    "\n",
    "                                # TASK 2: Add a pie chart to show the total successful launches count for all sites\n",
    "                                # If a specific launch site was selected, show the Success vs. Failed counts for the site\n",
    "                                html.Div(dcc.Graph(id='success-pie-chart')),\n",
    "                                html.Br(),\n",
    "\n",
    "                                html.P(\"Payload range (Kg):\"),\n",
    "                                # TASK 3: Add a slider to select payload range\n",
    "                                dcc.RangeSlider(id='payload-slider',\n",
    "                                min=0,\n",
    "                                max=10000,\n",
    "                                step=1000,\n",
    "                                value=[min_payload,max_payload],\n",
    "                                marks={\n",
    "                                0: '0 kg',\n",
    "                                2500: '2500',\n",
    "                                5000: '5000',\n",
    "                                7500: '7500',\n",
    "                                10000: '10000'\n",
    "                                }),\n",
    "\n",
    "                                # TASK 4: Add a scatter chart to show the correlation between payload and launch success\n",
    "                                html.Div(dcc.Graph(id='success-payload-scatter-chart')),\n",
    "                                ])\n",
    "\n",
    "# TASK 2:\n",
    "# Add a callback function for `site-dropdown` as input, `success-pie-chart` as output\n",
    "@app.callback(\n",
    "Output(component_id='success-pie-chart', component_property='figure'),\n",
    "Input(component_id='site-dropdown', component_property='value')\n",
    ")\n",
    "def get_pie(value):\n",
    "    filtered_df = spacex_df\n",
    "    if value == 'All Sites':\n",
    "        fig = px.pie(filtered_df, values='class', names='Launch Site', title='Total Success Launches By Site')\n",
    "        return fig\n",
    "\n",
    "    else:\n",
    "        filtered_df = spacex_df[spacex_df['Launch Site'] == value].groupby(['Launch Site', 'class']). \\\n",
    "        size().reset_index(name='class count')\n",
    "        title = f\"Total Success Launches for site {value}\"\n",
    "        fig = px.pie(filtered_df,values='class count', names='class', title=title)\n",
    "        return fig\n",
    "\n",
    "# Add a callback function for `site-dropdown` and `payload-slider` as inputs, `success-payload-scatter-chart` as output\n",
    "@app.callback(\n",
    "Output(component_id='success-payload-scatter-chart', component_property='figure'),\n",
    "[Input(component_id='site-dropdown', component_property='value'),\n",
    "Input(component_id='payload-slider', component_property='value')]\n",
    ")\n",
    "\n",
    "def get_scatter(value1,value2):\n",
    "    filtered_df2_1=spacex_df[(spacex_df['Payload Mass (kg)'] > value2[0]) & (spacex_df['Payload Mass (kg)'] < value2[1])]\n",
    "\n",
    "    if value1=='All Sites':\n",
    "        fig= px.scatter(filtered_df2_1,x=\"Payload Mass (kg)\",y=\"class\",color=\"Booster Version Category\",\\\n",
    "        title=\"Correlation between Payload and Success for All sites\")\n",
    "        return fig\n",
    "    else :\n",
    "        filtered_df2_2=filtered_df2_1[filtered_df2_1['Launch Site']==value1]\n",
    "        fig= px.scatter(filtered_df2_2,x=\"Payload Mass (kg)\",y=\"class\",color=\"Booster Version Category\",\\\n",
    "        title=f\"Correlation between Payload and Success for site {value1}\")\n",
    "        return fig\n",
    "# Run the app\n",
    "if __name__ == '__main__':\n",
    "    app.run_server()  "
   ]
  },
  {
   "cell_type": "markdown",
   "metadata": {},
   "source": [
    "## Summary\n",
    "\n",
    "Congratulations for completing your dash and plotly assignment.\n",
    "\n",
    "More information about the libraries can be found [here](https://dash.plotly.com/?utm_medium=Exinfluencer&utm_source=Exinfluencer&utm_content=000026UJ&utm_term=10006555&utm_id=NA-SkillsNetwork-Channel-SkillsNetworkCoursesIBMDeveloperSkillsNetworkDV0101ENSkillsNetwork20297740-2022-01-01)\n"
   ]
  },
  {
   "cell_type": "code",
   "execution_count": null,
   "metadata": {},
   "outputs": [],
   "source": []
  }
 ],
 "metadata": {
  "kernelspec": {
   "display_name": "Python 3 (ipykernel)",
   "language": "python",
   "name": "python3"
  },
  "language_info": {
   "codemirror_mode": {
    "name": "ipython",
    "version": 3
   },
   "file_extension": ".py",
   "mimetype": "text/x-python",
   "name": "python",
   "nbconvert_exporter": "python",
   "pygments_lexer": "ipython3",
   "version": "3.8.13"
  }
 },
 "nbformat": 4,
 "nbformat_minor": 4
}
